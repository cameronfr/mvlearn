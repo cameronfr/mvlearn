{
 "cells": [
  {
   "cell_type": "code",
   "execution_count": 1,
   "metadata": {},
   "outputs": [],
   "source": [
    "%load_ext autoreload\n",
    "%autoreload 2\n",
    "import torch\n",
    "import torch.nn as nn\n",
    "import numpy as np\n",
    "from linear_cca import linear_cca\n",
    "from torch.utils.data import BatchSampler, SequentialSampler\n",
    "from DeepCCAModels import DeepCCA\n",
    "from main import Solver\n",
    "from utils import load_data, svm_classify\n",
    "try:\n",
    "    import cPickle as thepickle\n",
    "except ImportError:\n",
    "    import _pickle as thepickle\n",
    "\n",
    "import gzip\n",
    "import numpy as np\n",
    "torch.set_default_tensor_type(torch.DoubleTensor)"
   ]
  },
  {
   "cell_type": "code",
   "execution_count": 83,
   "metadata": {},
   "outputs": [
    {
     "name": "stdout",
     "output_type": "stream",
     "text": [
      "Using 0 GPUs\n",
      "loading data ...\n",
      "loading data ...\n"
     ]
    }
   ],
   "source": [
    "############\n",
    "# Parameters Section\n",
    "\n",
    "device = torch.device('cpu')\n",
    "print(\"Using\", torch.cuda.device_count(), \"GPUs\")\n",
    "\n",
    "# the path to save the final learned features\n",
    "save_to = './new_features.gz'\n",
    "\n",
    "# the size of the new space learned by the model (number of the new features)\n",
    "outdim_size = 50\n",
    "\n",
    "# size of the input for view 1 and view 2\n",
    "input_shape1 = 392\n",
    "input_shape2 = 392\n",
    "\n",
    "# number of layers with nodes in each one\n",
    "# layer_sizes1 = [1024, 1024, 1024, outdim_size]\n",
    "# layer_sizes2 = [1024, 1024, 1024, outdim_size]\n",
    "layer_sizes1 = [2038, outdim_size]\n",
    "layer_sizes2 = [1608, outdim_size]\n",
    "\n",
    "# the parameters for training the network\n",
    "learning_rate = 1e-3\n",
    "epoch_num = 10\n",
    "batch_size = 800\n",
    "\n",
    "# the regularization parameter of the network\n",
    "# seems necessary to avoid the gradient exploding especially when non-saturating activations are used\n",
    "reg_par = 1e-5\n",
    "\n",
    "# specifies if all the singular values should get used to calculate the correlation or just the top outdim_size ones\n",
    "# if one option does not work for a network or dataset, try the other one\n",
    "use_all_singular_values = False\n",
    "\n",
    "# if a linear CCA should get applied on the learned features extracted from the networks\n",
    "# it does not affect the performance on noisy MNIST significantly\n",
    "apply_linear_cca = True\n",
    "# end of parameters section\n",
    "############\n",
    "\n",
    "# Each view is stored in a gzip file separately. They will get downloaded the first time the code gets executed.\n",
    "# Datasets get stored under the datasets folder of user's Keras folder\n",
    "# normally under [Home Folder]/.keras/datasets/\n",
    "data1 = load_data('./noisymnist_view1.gz')\n",
    "data2 = load_data('./noisymnist_view2.gz')"
   ]
  },
  {
   "cell_type": "markdown",
   "metadata": {},
   "source": [
    "# New data : left and right sides of MNIST images"
   ]
  },
  {
   "cell_type": "code",
   "execution_count": 84,
   "metadata": {},
   "outputs": [],
   "source": [
    "from torch.utils.data import Dataset, DataLoader\n",
    "from torchvision import datasets\n",
    "\n",
    "def mnist_left_right():\n",
    "    mnist_train = Dataset.mnistDataset = datasets.MNIST(\"./mnist\", train=True, download=True)\n",
    "    mnist_test = datasets.MNIST(\"./mnist\", train=False, download=True)\n",
    "    \n",
    "    data1 = []\n",
    "    data2 = []\n",
    "    \n",
    "    #### get train data\n",
    "    temp_array1 = np.zeros((50000, 14*28))\n",
    "    temp_array2 = np.zeros((50000, 14*28))\n",
    "    labels = []\n",
    "    for i in range(len(mnist_train)-10000): # \n",
    "        img, label = mnist_train[i]\n",
    "        labels.append(label)\n",
    "        img = np.array(img) / 255\n",
    "        image1, image2 = img[:,:14], img[:,14:]\n",
    "        temp_array1[i,:] = np.reshape(image1, (1,14*28))\n",
    "        temp_array2[i,:] = np.reshape(image2, (1,14*28))\n",
    "        \n",
    "    labels = np.array(labels)\n",
    "    temp_array1 = torch.tensor(temp_array1)\n",
    "    temp_array2 = torch.tensor(temp_array2)\n",
    "    data1.append((temp_array1, labels))\n",
    "    data2.append((temp_array2, labels))\n",
    "    \n",
    "    #### get eval data\n",
    "    temp_array1 = np.zeros((10000, 14*28))\n",
    "    temp_array2 = np.zeros((10000, 14*28))\n",
    "    labels = []\n",
    "    for i in range(10000): # \n",
    "        img, label = mnist_train[i+50000]\n",
    "        labels.append(label)\n",
    "        img = np.array(img) / 255\n",
    "        image1, image2 = img[:,:14], img[:,14:]\n",
    "        temp_array1[i,:] = np.reshape(image1, (1,14*28))\n",
    "        temp_array2[i,:] = np.reshape(image2, (1,14*28))\n",
    "        \n",
    "    labels = np.array(labels)\n",
    "    temp_array1 = torch.tensor(temp_array1)\n",
    "    temp_array2 = torch.tensor(temp_array2)\n",
    "    data1.append((temp_array1, labels))\n",
    "    data2.append((temp_array2, labels))\n",
    "    \n",
    "    #### get test data\n",
    "    temp_array1 = np.zeros((10000, 14*28))\n",
    "    temp_array2 = np.zeros((10000, 14*28))\n",
    "    labels = []\n",
    "    for i in range(10000): # \n",
    "        img, label = mnist_test[i]\n",
    "        labels.append(label)\n",
    "        img = np.array(img) / 255\n",
    "        image1, image2 = img[:,:14], img[:,14:]\n",
    "        temp_array1[i,:] = np.reshape(image1, (1,14*28))\n",
    "        temp_array2[i,:] = np.reshape(image2, (1,14*28))\n",
    "        \n",
    "    labels = np.array(labels)\n",
    "    temp_array1 = torch.tensor(temp_array1)\n",
    "    temp_array2 = torch.tensor(temp_array2)\n",
    "    data1.append((temp_array1, labels))\n",
    "    data2.append((temp_array2, labels))\n",
    "    \n",
    "    \n",
    "    return data1, data2\n",
    "    "
   ]
  },
  {
   "cell_type": "code",
   "execution_count": 85,
   "metadata": {},
   "outputs": [
    {
     "name": "stdout",
     "output_type": "stream",
     "text": [
      "<class 'list'>\n",
      "[(tensor([[0., 0., 0.,  ..., 0., 0., 0.],\n",
      "        [0., 0., 0.,  ..., 0., 0., 0.],\n",
      "        [0., 0., 0.,  ..., 0., 0., 0.],\n",
      "        ...,\n",
      "        [0., 0., 0.,  ..., 0., 0., 0.],\n",
      "        [0., 0., 0.,  ..., 0., 0., 0.],\n",
      "        [0., 0., 0.,  ..., 0., 0., 0.]]), array([5, 0, 4, ..., 8, 4, 8])), (tensor([[0., 0., 0.,  ..., 0., 0., 0.],\n",
      "        [0., 0., 0.,  ..., 0., 0., 0.],\n",
      "        [0., 0., 0.,  ..., 0., 0., 0.],\n",
      "        ...,\n",
      "        [0., 0., 0.,  ..., 0., 0., 0.],\n",
      "        [0., 0., 0.,  ..., 0., 0., 0.],\n",
      "        [0., 0., 0.,  ..., 0., 0., 0.]]), array([3, 8, 6, ..., 5, 6, 8])), (tensor([[0., 0., 0.,  ..., 0., 0., 0.],\n",
      "        [0., 0., 0.,  ..., 0., 0., 0.],\n",
      "        [0., 0., 0.,  ..., 0., 0., 0.],\n",
      "        ...,\n",
      "        [0., 0., 0.,  ..., 0., 0., 0.],\n",
      "        [0., 0., 0.,  ..., 0., 0., 0.],\n",
      "        [0., 0., 0.,  ..., 0., 0., 0.]]), array([7, 2, 1, ..., 4, 5, 6]))]\n"
     ]
    }
   ],
   "source": [
    "data1, data2 = mnist_left_right()\n",
    "print(type(data1))\n",
    "print(data1)"
   ]
  },
  {
   "cell_type": "code",
   "execution_count": 86,
   "metadata": {
    "scrolled": false
   },
   "outputs": [
    {
     "name": "stderr",
     "output_type": "stream",
     "text": [
      "[ INFO : 2020-02-08 13:11:35,304 ] - DataParallel(\n",
      "  (module): DeepCCA(\n",
      "    (model1): MlpNet(\n",
      "      (layers): ModuleList(\n",
      "        (0): Sequential(\n",
      "          (0): Linear(in_features=392, out_features=2038, bias=True)\n",
      "          (1): Sigmoid()\n",
      "        )\n",
      "        (1): Linear(in_features=2038, out_features=50, bias=True)\n",
      "      )\n",
      "    )\n",
      "    (model2): MlpNet(\n",
      "      (layers): ModuleList(\n",
      "        (0): Sequential(\n",
      "          (0): Linear(in_features=392, out_features=1608, bias=True)\n",
      "          (1): Sigmoid()\n",
      "        )\n",
      "        (1): Linear(in_features=1608, out_features=50, bias=True)\n",
      "      )\n",
      "    )\n",
      "  )\n",
      ")\n",
      "[ INFO : 2020-02-08 13:11:35,306 ] - RMSprop (\n",
      "Parameter Group 0\n",
      "    alpha: 0.99\n",
      "    centered: False\n",
      "    eps: 1e-08\n",
      "    lr: 0.001\n",
      "    momentum: 0\n",
      "    weight_decay: 1e-05\n",
      ")\n",
      "[ INFO : 2020-02-08 13:11:41,385 ] - Epoch 1: val_loss improved from 0.0000 to -25.7962, saving model to checkpoint.model\n",
      "[ INFO : 2020-02-08 13:11:41,391 ] - Epoch 1/10 - time: 6.01 - training_loss: -23.1431 - val_loss: -25.7962\n",
      "[ INFO : 2020-02-08 13:11:48,170 ] - Epoch 2: val_loss improved from -25.7962 to -29.3188, saving model to checkpoint.model\n",
      "[ INFO : 2020-02-08 13:11:48,175 ] - Epoch 2/10 - time: 6.78 - training_loss: -25.3724 - val_loss: -29.3188\n",
      "[ INFO : 2020-02-08 13:11:54,884 ] - Epoch 3: val_loss improved from -29.3188 to -32.6594, saving model to checkpoint.model\n",
      "[ INFO : 2020-02-08 13:11:54,890 ] - Epoch 3/10 - time: 6.71 - training_loss: -27.3566 - val_loss: -32.6594\n",
      "[ INFO : 2020-02-08 13:12:01,554 ] - Epoch 4: val_loss improved from -32.6594 to -35.2777, saving model to checkpoint.model\n",
      "[ INFO : 2020-02-08 13:12:01,560 ] - Epoch 4/10 - time: 6.67 - training_loss: -29.1717 - val_loss: -35.2777\n",
      "[ INFO : 2020-02-08 13:12:08,291 ] - Epoch 5: val_loss improved from -35.2777 to -37.1317, saving model to checkpoint.model\n",
      "[ INFO : 2020-02-08 13:12:08,297 ] - Epoch 5/10 - time: 6.74 - training_loss: -30.7588 - val_loss: -37.1317\n",
      "[ INFO : 2020-02-08 13:12:15,128 ] - Epoch 6: val_loss improved from -37.1317 to -38.3740, saving model to checkpoint.model\n",
      "[ INFO : 2020-02-08 13:12:15,134 ] - Epoch 6/10 - time: 6.84 - training_loss: -32.0855 - val_loss: -38.3740\n",
      "[ INFO : 2020-02-08 13:12:22,050 ] - Epoch 7: val_loss improved from -38.3740 to -39.3860, saving model to checkpoint.model\n",
      "[ INFO : 2020-02-08 13:12:22,055 ] - Epoch 7/10 - time: 6.92 - training_loss: -33.1964 - val_loss: -39.3860\n",
      "[ INFO : 2020-02-08 13:12:29,217 ] - Epoch 8: val_loss improved from -39.3860 to -40.0065, saving model to checkpoint.model\n",
      "[ INFO : 2020-02-08 13:12:29,226 ] - Epoch 8/10 - time: 7.17 - training_loss: -34.1277 - val_loss: -40.0065\n",
      "[ INFO : 2020-02-08 13:12:36,410 ] - Epoch 9: val_loss improved from -40.0065 to -40.5543, saving model to checkpoint.model\n",
      "[ INFO : 2020-02-08 13:12:36,415 ] - Epoch 9/10 - time: 7.19 - training_loss: -34.9194 - val_loss: -40.5543\n",
      "[ INFO : 2020-02-08 13:12:43,694 ] - Epoch 10: val_loss improved from -40.5543 to -41.0312, saving model to checkpoint.model\n",
      "[ INFO : 2020-02-08 13:12:43,702 ] - Epoch 10/10 - time: 7.29 - training_loss: -35.6043 - val_loss: -41.0312\n",
      "[ INFO : 2020-02-08 13:12:46,772 ] - loss on validation data: -41.0312\n",
      "[ INFO : 2020-02-08 13:12:47,248 ] - loss on test data: -40.4505\n"
     ]
    },
    {
     "name": "stdout",
     "output_type": "stream",
     "text": [
      "Linear CCA started!\n"
     ]
    }
   ],
   "source": [
    "# Building, training, and producing the new features by DCCA\n",
    "model = DeepCCA(layer_sizes1, layer_sizes2, input_shape1,\n",
    "                input_shape2, outdim_size, use_all_singular_values, device=device).double()\n",
    "l_cca = None\n",
    "if apply_linear_cca:\n",
    "    l_cca = linear_cca()\n",
    "solver = Solver(model, l_cca, outdim_size, epoch_num, batch_size,\n",
    "                learning_rate, reg_par, device=device)\n",
    "train1, train2 = data1[0][0], data2[0][0]\n",
    "val1, val2 = data1[1][0], data2[1][0]\n",
    "test1, test2 = data1[2][0], data2[2][0]\n",
    "# val1=None\n",
    "# test1=None\n",
    "solver.fit(train1, train2, val1, val2, test1, test2)\n",
    "# TODO: Save linear_cca model if needed\n",
    "\n",
    "set_size = [0, train1.size(0), train1.size(\n",
    "    0) + val1.size(0), train1.size(0) + val1.size(0) + test1.size(0)]\n",
    "loss, outputs = solver.test(torch.cat([train1, val1, test1], dim=0), torch.cat(\n",
    "    [train2, val2, test2], dim=0), apply_linear_cca)"
   ]
  },
  {
   "cell_type": "code",
   "execution_count": 91,
   "metadata": {},
   "outputs": [
    {
     "name": "stdout",
     "output_type": "stream",
     "text": [
      "Cross-View Correlations before and after transformation\n",
      "Train: [3.18240939] -> [42.28522002]\n",
      "Test: [3.17578552] -> [41.42385069]\n"
     ]
    }
   ],
   "source": [
    "### Compute correlations between 50 features\n",
    "new_data = []\n",
    "# print(outputs)\n",
    "for idx in range(3):\n",
    "    new_data.append([outputs[0][set_size[idx]:set_size[idx + 1], :],\n",
    "                     outputs[1][set_size[idx]:set_size[idx + 1], :], data1[idx][1]])\n",
    "\n",
    "X1_train, X2_train, train_label = new_data[0]\n",
    "X1_val, X2_val, valid_label = new_data[1]\n",
    "X1_test, X2_test, test_label = new_data[2]\n",
    "\n",
    "sum_corr_train = 0\n",
    "for idx, (row1, row2) in enumerate(zip(X1_train, X2_train)):\n",
    "    sum_corr_train += np.correlate(row1, row2)\n",
    "    \n",
    "corr_train = sum_corr_train/idx\n",
    "    \n",
    "sum_corr_test = 0\n",
    "for idx, (row1, row2) in enumerate(zip(X1_test, X2_test)):\n",
    "    sum_corr_test += np.correlate(row1, row2)\n",
    "    \n",
    "corr_test = sum_corr_test/idx\n",
    "    \n",
    "\n",
    "### Compute correlations of original images\n",
    "X1_train, _ = data1[0]\n",
    "X2_train, _ = data2[0]\n",
    "X1_val, _ = data1[1]\n",
    "X2_val, _ = data2[1]\n",
    "X1_test, _ = data1[2]\n",
    "X2_test, _ = data2[2]\n",
    "\n",
    "X1_train = X1_train.numpy()\n",
    "X2_train = X2_train.numpy()\n",
    "X1_val = X1_val.numpy()\n",
    "X2_val = X2_val.numpy()\n",
    "X1_test = X1_test.numpy()\n",
    "X2_test = X2_test.numpy()\n",
    "\n",
    "sum_corr_train_orig = 0\n",
    "for idx, (row1, row2) in enumerate(zip(X1_train, X2_train)):\n",
    "    sum_corr_train_orig += np.correlate(row1, row2)\n",
    "corr_train_orig = sum_corr_train_orig/idx    \n",
    "\n",
    "sum_corr_test_orig = 0\n",
    "for idx, (row1, row2) in enumerate(zip(X1_test, X2_test)):\n",
    "    sum_corr_test_orig += np.correlate(row1, row2)\n",
    "corr_test_orig = sum_corr_test_orig/idx\n",
    "\n",
    "print(\"Cross-View Correlations before and after transformation\")\n",
    "print(\"Train: {} -> {}\".format(corr_train_orig, corr_train))\n",
    "print(\"Test: {} -> {}\".format(corr_test_orig, corr_test))\n"
   ]
  },
  {
   "cell_type": "code",
   "execution_count": 89,
   "metadata": {},
   "outputs": [
    {
     "name": "stdout",
     "output_type": "stream",
     "text": [
      "training SVM...\n",
      "Accuracy on view 1 (validation data) is: 88.1\n",
      "Accuracy on view 1 (test data) is: 87.55\n"
     ]
    }
   ],
   "source": [
    "# Training and testing of SVM with linear kernel on the view 1 with new features\n",
    "[test_acc, valid_acc] = svm_classify(new_data, C=0.01)\n",
    "print(\"Accuracy on view 1 (validation data) is:\", valid_acc * 100.0)\n",
    "print(\"Accuracy on view 1 (test data) is:\", test_acc*100.0)"
   ]
  },
  {
   "cell_type": "code",
   "execution_count": 66,
   "metadata": {},
   "outputs": [
    {
     "name": "stdout",
     "output_type": "stream",
     "text": [
      "saving new features ...\n"
     ]
    }
   ],
   "source": [
    "# Saving new features in a gzip pickled file specified by save_to\n",
    "print('saving new features ...')\n",
    "save_to = './new_features_leftright0.gz'\n",
    "f1 = gzip.open(save_to, 'wb')\n",
    "thepickle.dump(new_data, f1)\n",
    "f1.close()"
   ]
  },
  {
   "cell_type": "code",
   "execution_count": 6,
   "metadata": {},
   "outputs": [
    {
     "data": {
      "text/plain": [
       "<generator object Module.parameters at 0x7fa769fb57d0>"
      ]
     },
     "execution_count": 6,
     "metadata": {},
     "output_type": "execute_result"
    }
   ],
   "source": [
    "d = torch.load('checkpoint.model')\n",
    "solver.model.load_state_dict(d)\n",
    "solver.model.parameters()"
   ]
  },
  {
   "cell_type": "code",
   "execution_count": null,
   "metadata": {},
   "outputs": [],
   "source": []
  }
 ],
 "metadata": {
  "kernelspec": {
   "display_name": "Python 3",
   "language": "python",
   "name": "python3"
  },
  "language_info": {
   "codemirror_mode": {
    "name": "ipython",
    "version": 3
   },
   "file_extension": ".py",
   "mimetype": "text/x-python",
   "name": "python",
   "nbconvert_exporter": "python",
   "pygments_lexer": "ipython3",
   "version": "3.7.5"
  }
 },
 "nbformat": 4,
 "nbformat_minor": 2
}
